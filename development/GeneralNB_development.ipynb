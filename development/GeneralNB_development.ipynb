{
 "cells": [
  {
   "cell_type": "code",
   "execution_count": 1,
   "metadata": {},
   "outputs": [],
   "source": [
    "import sys\n",
    "\n",
    "import numpy as np\n",
    "import pandas as pd\n",
    "from sklearn import datasets\n",
    "from sklearn.naive_bayes import BaseNB\n",
    "\n",
    "sys.path.append('../naive-bayes')\n",
    "\n",
    "from naive_bayes import *"
   ]
  },
  {
   "cell_type": "code",
   "execution_count": 6,
   "metadata": {},
   "outputs": [],
   "source": [
    "wine = datasets.load_wine()"
   ]
  },
  {
   "cell_type": "code",
   "execution_count": 7,
   "metadata": {},
   "outputs": [
    {
     "data": {
      "text/plain": [
       "(178, 13)"
      ]
     },
     "execution_count": 7,
     "metadata": {},
     "output_type": "execute_result"
    }
   ],
   "source": [
    "X = pd.DataFrame(wine.data, columns=wine.feature_names)\n",
    "y = pd.Series(wine.target)\n",
    "\n",
    "X.shape"
   ]
  },
  {
   "cell_type": "code",
   "execution_count": 8,
   "metadata": {},
   "outputs": [],
   "source": [
    "gnb = GeneralNB()\n",
    "gnb.fit(X, y)"
   ]
  },
  {
   "cell_type": "code",
   "execution_count": 21,
   "metadata": {},
   "outputs": [
    {
     "data": {
      "text/plain": [
       "array(dict_values([0.33146067415730335, 0.398876404494382, 0.2696629213483146]),\n",
       "      dtype=object)"
      ]
     },
     "execution_count": 21,
     "metadata": {},
     "output_type": "execute_result"
    }
   ],
   "source": [
    "np.array(gnb.class_probs.values())"
   ]
  },
  {
   "cell_type": "code",
   "execution_count": 28,
   "metadata": {},
   "outputs": [
    {
     "data": {
      "text/plain": [
       "{0: {'alcohol': {'mean': 13.744745762711865, 'std': 0.45819230635257235},\n",
       "  'malic_acid': {'mean': 2.010677966101695, 'std': 0.6826887630111},\n",
       "  'ash': {'mean': 2.4555932203389834, 'std': 0.22523261938580774},\n",
       "  'alcalinity_of_ash': {'mean': 17.037288135593222, 'std': 2.524651229820095},\n",
       "  'magnesium': {'mean': 106.33898305084746, 'std': 10.409594937480737},\n",
       "  'total_phenols': {'mean': 2.8401694915254234, 'std': 0.3360765223870026},\n",
       "  'flavanoids': {'mean': 2.982372881355932, 'std': 0.3941106227867916},\n",
       "  'nonflavanoid_phenols': {'mean': 0.29000000000000004,\n",
       "   'std': 0.06945306914427413},\n",
       "  'proanthocyanins': {'mean': 1.8993220338983048, 'std': 0.4086018509078915},\n",
       "  'color_intensity': {'mean': 5.528305084745763, 'std': 1.2280315688295402},\n",
       "  'hue': {'mean': 1.0620338983050848, 'std': 0.11549128165814294},\n",
       "  'od280/od315_of_diluted_wines': {'mean': 3.1577966101694916,\n",
       "   'std': 0.3540375724416456},\n",
       "  'proline': {'mean': 1115.7118644067796, 'std': 219.63544918159718}},\n",
       " 1: {'alcohol': {'mean': 12.278732394366195, 'std': 0.5341623153044869},\n",
       "  'malic_acid': {'mean': 1.932676056338028, 'std': 1.0083914924783712},\n",
       "  'ash': {'mean': 2.244788732394366, 'std': 0.3132377900453227},\n",
       "  'alcalinity_of_ash': {'mean': 20.238028169014086, 'std': 3.32609681992941},\n",
       "  'magnesium': {'mean': 94.54929577464789, 'std': 16.635096728484584},\n",
       "  'total_phenols': {'mean': 2.25887323943662, 'std': 0.5415068940707272},\n",
       "  'flavanoids': {'mean': 2.0808450704225354, 'std': 0.7007134120708557},\n",
       "  'nonflavanoid_phenols': {'mean': 0.3636619718309859,\n",
       "   'std': 0.12308521537536181},\n",
       "  'proanthocyanins': {'mean': 1.630281690140845, 'std': 0.5978128489258201},\n",
       "  'color_intensity': {'mean': 3.086619718309859, 'std': 0.9183925695060169},\n",
       "  'hue': {'mean': 1.0562816901408452, 'std': 0.20150260775571788},\n",
       "  'od280/od315_of_diluted_wines': {'mean': 2.785352112676056,\n",
       "   'std': 0.4930640931565847},\n",
       "  'proline': {'mean': 519.5070422535211, 'std': 156.10017307778267}},\n",
       " 2: {'alcohol': {'mean': 13.153750000000002, 'std': 0.5246888959183338},\n",
       "  'malic_acid': {'mean': 3.3337499999999998, 'std': 1.0765137114005252},\n",
       "  'ash': {'mean': 2.4370833333333333, 'std': 0.18275619384548614},\n",
       "  'alcalinity_of_ash': {'mean': 21.416666666666668, 'std': 2.2345146129653206},\n",
       "  'magnesium': {'mean': 99.3125, 'std': 10.776433102686003},\n",
       "  'total_phenols': {'mean': 1.6787500000000002, 'std': 0.3532328375165593},\n",
       "  'flavanoids': {'mean': 0.7814583333333333, 'std': 0.290430639907745},\n",
       "  'nonflavanoid_phenols': {'mean': 0.4475, 'std': 0.12283966514661838},\n",
       "  'proanthocyanins': {'mean': 1.1535416666666667, 'std': 0.404554742810606},\n",
       "  'color_intensity': {'mean': 7.396249979166666, 'std': 2.2867431352275744},\n",
       "  'hue': {'mean': 0.6827083333333333, 'std': 0.1132427257290973},\n",
       "  'od280/od315_of_diluted_wines': {'mean': 1.6835416666666667,\n",
       "   'std': 0.2692620283860232},\n",
       "  'proline': {'mean': 629.8958333333334, 'std': 113.89180530649351}}}"
      ]
     },
     "execution_count": 28,
     "metadata": {},
     "output_type": "execute_result"
    }
   ],
   "source": [
    "gnb.cond_probs"
   ]
  },
  {
   "cell_type": "code",
   "execution_count": 39,
   "metadata": {},
   "outputs": [
    {
     "data": {
      "text/plain": [
       "array([[ -16.13977307,  -38.86047164, -108.64310897],\n",
       "       [ -17.36976848,  -28.27790401,  -85.23142225],\n",
       "       [ -15.01604426,  -34.08143524,  -95.05934416],\n",
       "       [ -22.44296814,  -64.07144757, -135.11431529],\n",
       "       [ -18.55127559,  -21.871907  ,  -60.65813409],\n",
       "       [ -15.12061381,  -51.97139539, -112.09222493],\n",
       "       [ -14.80380948,  -40.51635072,  -89.26591822],\n",
       "       [ -15.39047203,  -38.62619499,  -86.68630159],\n",
       "       [ -15.86996702,  -37.42553527,  -83.14005468],\n",
       "       [ -14.13594558,  -39.38469492,  -95.01032172],\n",
       "       [ -15.70026383,  -49.4025116 , -123.65846774],\n",
       "       [ -16.3785873 ,  -35.4712836 ,  -70.4569399 ],\n",
       "       [ -13.48786562,  -36.91787518,  -82.25197239],\n",
       "       [ -25.09373277,  -46.29311103, -124.61697005],\n",
       "       [ -23.32654789,  -65.71242339, -148.14335805],\n",
       "       [ -15.42295775,  -44.85838535,  -90.85654801],\n",
       "       [ -15.1933934 ,  -43.15414427,  -86.67467257],\n",
       "       [ -15.90972466,  -37.70307374,  -85.99166735],\n",
       "       [ -23.25969242,  -74.03120465, -151.60914597],\n",
       "       [ -15.71755962,  -28.43766211,  -78.861363  ],\n",
       "       [ -16.07233165,  -32.40548014, -101.00364554],\n",
       "       [ -20.36026169,  -22.03012537,  -63.41237357],\n",
       "       [ -15.16165091,  -28.48969712,  -98.07408629],\n",
       "       [ -17.57427933,  -22.96273968,  -72.36224622],\n",
       "       [ -17.11213262,  -22.66374339,  -79.46660689],\n",
       "       [ -29.94110548,  -26.29868209,  -78.17661199],\n",
       "       [ -13.88413379,  -30.98148475,  -80.81732358],\n",
       "       [ -18.34237686,  -29.48534145,  -60.78046354],\n",
       "       [ -15.24481231,  -27.77472777,  -88.40439775],\n",
       "       [ -14.65440987,  -29.52375201,  -75.57061637],\n",
       "       [ -16.58093877,  -38.92077141,  -96.83112351],\n",
       "       [ -14.37380316,  -49.22475762, -103.51089007],\n",
       "       [ -15.96592633,  -24.22262437,  -67.85252215],\n",
       "       [ -22.12873514,  -37.93064323,  -87.4523326 ],\n",
       "       [ -14.48159698,  -26.15866884,  -60.9809133 ],\n",
       "       [ -12.88967021,  -25.15417176,  -78.50861749],\n",
       "       [ -15.98892303,  -23.95028305,  -61.85270004],\n",
       "       [ -16.88464463,  -24.43980057,  -54.95002525],\n",
       "       [ -18.2822322 ,  -22.75747595,  -65.07096794],\n",
       "       [ -22.66897213,  -35.59208913,  -91.82398926],\n",
       "       [ -14.87383277,  -30.22796558,  -91.20801372],\n",
       "       [ -20.01207806,  -25.82278604,  -60.09432019],\n",
       "       [ -16.50195785,  -37.40922263, -110.93235373],\n",
       "       [ -21.14662255,  -21.22652652,  -52.01833254],\n",
       "       [ -15.13924924,  -24.38611438,  -79.10035803],\n",
       "       [ -18.96217731,  -35.15491685,  -69.68369049],\n",
       "       [ -16.24022335,  -36.73391202,  -99.24265535],\n",
       "       [ -14.92478763,  -34.57802322,  -96.60912571],\n",
       "       [ -12.7908708 ,  -34.06172759,  -71.89757162],\n",
       "       [ -16.34444511,  -54.43855397, -106.41455739],\n",
       "       [ -22.2469205 ,  -41.84233623, -104.1126209 ],\n",
       "       [ -14.78898265,  -37.95522962,  -99.85106893],\n",
       "       [ -19.1042907 ,  -47.21453387, -125.77835721],\n",
       "       [ -14.02798157,  -42.96418892,  -88.2419645 ],\n",
       "       [ -13.68781386,  -32.37698492,  -75.28016571],\n",
       "       [ -14.45400303,  -34.83062203,  -76.4134666 ],\n",
       "       [ -13.86330455,  -36.79300328,  -85.92645678],\n",
       "       [ -12.81442096,  -36.54450531,  -89.84124696],\n",
       "       [ -17.16594904,  -45.7416622 , -109.60728339],\n",
       "       [ -76.48870865,  -30.36171345,  -56.07486326],\n",
       "       [ -63.38964144,  -24.48353645,  -35.84838576],\n",
       "       [ -52.37977912,  -25.62371408,  -26.77787873],\n",
       "       [ -32.34560321,  -21.03014765,  -43.51113157],\n",
       "       [ -28.38463055,  -21.12723946,  -88.97238498],\n",
       "       [ -48.18915586,  -19.1606679 ,  -50.66133136],\n",
       "       [ -23.90796013,  -18.41910483,  -54.56793296],\n",
       "       [ -26.9641305 ,  -25.39689647,  -97.38449848],\n",
       "       [ -35.09193897,  -18.89920916,  -61.98692762],\n",
       "       [ -44.66317757,  -24.16475005,  -29.63801361],\n",
       "       [ -53.84236639,  -27.26813746,  -74.96948292],\n",
       "       [ -54.98589452,  -22.55895374,  -22.79784911],\n",
       "       [ -28.90751563,  -24.73883406,  -88.01061631],\n",
       "       [ -33.52026425,  -18.99590431,  -36.1481612 ],\n",
       "       [ -36.43382648,  -33.39432451, -112.02609158],\n",
       "       [ -29.52134644,  -21.83394534,  -64.97787886],\n",
       "       [ -50.31037872,  -19.23596495,  -42.89961212],\n",
       "       [ -35.92135665,  -20.90551579,  -53.74548968],\n",
       "       [ -48.54595455,  -17.99981903,  -29.17434854],\n",
       "       [ -39.72714867,  -23.1812505 ,  -53.79690189],\n",
       "       [ -30.31853742,  -18.63304011,  -65.30544195],\n",
       "       [ -40.50747978,  -18.51251938,  -76.46722169],\n",
       "       [ -21.35291035,  -16.91422012,  -61.08473421],\n",
       "       [ -46.09770764,  -18.06144147,  -47.63956955],\n",
       "       [ -54.30389384,  -23.90425965,  -20.57546398],\n",
       "       [ -34.76269701,  -18.32969302,  -53.71107116],\n",
       "       [ -29.50888142,  -16.24278248,  -55.72040936],\n",
       "       [ -46.45354306,  -17.05018056,  -41.96040311],\n",
       "       [ -50.54026547,  -19.46636453,  -60.23249812],\n",
       "       [ -43.74573627,  -16.91449211,  -36.06922458],\n",
       "       [ -45.17294655,  -18.16029868,  -49.36782016],\n",
       "       [ -50.58704611,  -17.50370021,  -32.29251274],\n",
       "       [ -51.72024658,  -17.55542119,  -32.23731874],\n",
       "       [ -55.08883326,  -19.41017612,  -25.69784377],\n",
       "       [ -32.22779484,  -17.8327609 ,  -67.06635819],\n",
       "       [ -34.54599285,  -18.3973324 ,  -65.28581873],\n",
       "       [ -42.44657248,  -30.52991486,  -82.65933822],\n",
       "       [ -56.78738612,  -23.46199587,  -32.72140524],\n",
       "       [ -30.44360153,  -16.74351939,  -66.27130965],\n",
       "       [ -26.2305023 ,  -22.668184  , -100.53199975],\n",
       "       [ -38.23052064,  -21.13512294,  -92.28705417],\n",
       "       [ -32.87739948,  -17.95414782,  -63.95839642],\n",
       "       [ -43.71852059,  -17.56524898,  -37.72198664],\n",
       "       [ -31.03880521,  -16.63751383,  -50.38843611],\n",
       "       [ -44.40237371,  -17.02374387,  -39.60984263],\n",
       "       [ -30.49493641,  -16.70225954,  -58.04029453],\n",
       "       [ -54.42438275,  -20.13681953,  -46.56036228],\n",
       "       [ -36.02274797,  -15.76923476,  -48.6299988 ],\n",
       "       [ -45.35599001,  -17.54643881,  -28.28160302],\n",
       "       [ -36.41545397,  -16.82536586,  -52.38835773],\n",
       "       [ -30.03310517,  -19.73068941,  -78.6329477 ],\n",
       "       [ -49.93482283,  -26.91980034,  -81.22278527],\n",
       "       [ -33.47506069,  -17.08107204,  -47.53272796],\n",
       "       [ -49.97008243,  -21.13459724,  -46.02028247],\n",
       "       [ -43.72798616,  -17.51682347,  -44.56485286],\n",
       "       [ -36.77594218,  -16.91217186,  -54.80199339],\n",
       "       [ -66.53611724,  -24.70144251,  -94.25951582],\n",
       "       [ -43.44929889,  -17.17143413,  -49.9906202 ],\n",
       "       [ -34.38338774,  -16.28259054,  -48.79773084],\n",
       "       [ -58.4665287 ,  -22.65074587,  -25.96050638],\n",
       "       [ -43.3983026 ,  -18.60296191,  -43.03522367],\n",
       "       [ -31.62995081,  -18.78734859,  -70.95163156],\n",
       "       [ -63.0926789 ,  -42.23288606, -183.91758845],\n",
       "       [ -45.63313094,  -22.06294953,  -51.0174535 ],\n",
       "       [ -44.7698737 ,  -25.78680378,  -61.51851362],\n",
       "       [ -44.9205524 ,  -25.37655313,  -93.56279359],\n",
       "       [ -33.27333628,  -16.58958179,  -63.37271028],\n",
       "       [ -32.28392299,  -18.78597639,  -66.78544003],\n",
       "       [ -53.54172923,  -21.19373482,  -47.15783782],\n",
       "       [ -36.90330957,  -16.97833426,  -50.38981285],\n",
       "       [ -48.15634629,  -19.20167157,  -29.8832142 ],\n",
       "       [ -55.57230458,  -26.19703288,  -22.16916503],\n",
       "       [ -57.71582858,  -27.61073878,  -16.2978133 ],\n",
       "       [ -66.61690227,  -30.00207996,  -16.57751422],\n",
       "       [ -57.85993005,  -27.4270436 ,  -17.54967808],\n",
       "       [ -66.94451781,  -27.62520718,  -18.76188022],\n",
       "       [ -70.74316529,  -34.880919  ,  -15.33882666],\n",
       "       [ -86.13873251,  -31.4099165 ,  -18.31834209],\n",
       "       [ -84.60825217,  -33.07312101,  -18.810267  ],\n",
       "       [ -67.1186315 ,  -30.64123734,  -15.52113247],\n",
       "       [ -54.70994419,  -24.00176648,  -18.58041402],\n",
       "       [ -61.41638224,  -24.77273059,  -17.3246993 ],\n",
       "       [ -55.74657061,  -28.61476953,  -19.30835247],\n",
       "       [ -63.37941923,  -27.22500118,  -18.55302162],\n",
       "       [ -55.1678934 ,  -26.97335691,  -17.55887606],\n",
       "       [ -62.09235717,  -41.46706399,  -18.88820138],\n",
       "       [ -64.58358693,  -28.2440868 ,  -15.70143881],\n",
       "       [ -95.52092415,  -40.30891636,  -23.1441413 ],\n",
       "       [ -73.81379399,  -40.23760476,  -14.00097604],\n",
       "       [ -62.86586043,  -42.66486146,  -12.4088882 ],\n",
       "       [ -67.11437895,  -50.94511552,  -16.86036041],\n",
       "       [ -63.84813547,  -47.95295178,  -22.66209799],\n",
       "       [ -70.81769937,  -61.08466606,  -19.63978279],\n",
       "       [ -56.69097546,  -36.3329283 ,  -23.11188641],\n",
       "       [ -74.56346772,  -60.5117654 ,  -16.52256031],\n",
       "       [ -72.5340485 ,  -37.39899542,  -16.67323761],\n",
       "       [ -81.87828896,  -46.2431864 ,  -15.29005508],\n",
       "       [ -67.45976832,  -49.82185251,  -15.19319937],\n",
       "       [ -76.07318512,  -41.22605032,  -19.63529178],\n",
       "       [ -69.68900034,  -90.35087942,  -35.30981587],\n",
       "       [ -64.4691    ,  -70.1067267 ,  -24.03793009],\n",
       "       [ -67.75663947,  -36.99757758,  -15.75205027],\n",
       "       [ -54.0609447 ,  -30.69211443,  -16.39769115],\n",
       "       [ -62.17065661,  -27.01848587,  -15.82143141],\n",
       "       [ -59.95023126,  -27.78768625,  -13.31743541],\n",
       "       [ -66.80768798,  -51.89636444,  -13.5672743 ],\n",
       "       [ -73.8951819 ,  -37.02615875,  -15.46507068],\n",
       "       [ -61.40627393,  -60.10915046,  -15.21784669],\n",
       "       [ -67.79818298,  -54.23113568,  -13.77291649],\n",
       "       [ -55.26077463,  -44.57069072,  -15.16737269],\n",
       "       [ -60.2877488 ,  -46.4626088 ,  -18.52966209],\n",
       "       [ -71.69229838,  -27.63765507,  -16.41871071],\n",
       "       [ -82.11160054,  -53.71146582,  -16.82417302],\n",
       "       [ -62.91174804,  -54.82325901,  -14.38294889],\n",
       "       [ -75.62064331,  -46.81151565,  -14.94836698],\n",
       "       [ -58.62298985,  -37.67062063,  -12.47337602],\n",
       "       [ -71.83121595,  -60.57418511,  -16.907246  ],\n",
       "       [ -66.07551781,  -50.96889032,  -16.23013933],\n",
       "       [ -73.3128599 ,  -55.3312129 ,  -17.16372791]])"
      ]
     },
     "execution_count": 39,
     "metadata": {},
     "output_type": "execute_result"
    }
   ],
   "source": [
    "def _vectorized_get(key, dict_):\n",
    "    return np.vectorize(dict__getitem__)(key)\n",
    "\n",
    "class_probs_arr = np.atleast_2d([val for val in gnb.class_probs.values()])\n",
    "jll = np.repeat(np.log(class_probs_arr), gnb.n_samples, axis=0)\n",
    "\n",
    "for feat in gnb.categorical_columns:\n",
    "    log_probs = np.log(np.stack([_vectorized_get(X[col].values, self.cond_probs[i][feat]) for i in self.classes_], axis=1))\n",
    "    # impute log cond prob to 0 in case of 0% cond prob in training set\n",
    "    # TODO: this should probably be a toggle option in case user wants to throw an error on unseen values\n",
    "    log_probs[log_probs == -np.inf] = 0\n",
    "    \n",
    "    jll += log_probs\n",
    "    \n",
    "\n",
    "for col in gnb.numerical_columns:\n",
    "    log_probs_by_class = []\n",
    "    # willing to allow a O(n_features * n_classes) loop for now\n",
    "    for label in gnb.classes_:\n",
    "        mean = gnb.cond_probs[label][col]['mean']\n",
    "        std = gnb.cond_probs[label][col]['std']\n",
    "        \n",
    "        # impute missing values to 0\n",
    "        log_probs = np.log(gaussian_pdf(X[col].values, mean, std))\n",
    "        log_probs_0filled = np.nan_to_num(log_probs)\n",
    "        \n",
    "        log_probs_by_class.append(log_probs_0filled)\n",
    "    log_probs_array = np.stack(log_probs_by_class, axis=1)\n",
    "    jll += log_probs_array\n",
    "jll"
   ]
  },
  {
   "cell_type": "code",
   "execution_count": 27,
   "metadata": {},
   "outputs": [],
   "source": [
    "class_probs = dict()\n",
    "cond_probs = dict()\n",
    "for label in gnb.classes_:\n",
    "    class_probs[label] = sum(gnb.y == label) / gnb.n_samples\n",
    "\n",
    "    cond_probs[label] = dict()\n",
    "    for col in gnb.numerical_columns:\n",
    "        cond_probs[label][col] = dict()\n",
    "        cond_df = X.loc[y == label, col].values\n",
    "        cond_probs[label][col]['mean'] = np.nanmean(cond_df)\n",
    "        cond_probs[label][col]['std'] = np.nanstd(cond_df)"
   ]
  },
  {
   "cell_type": "code",
   "execution_count": 28,
   "metadata": {},
   "outputs": [
    {
     "data": {
      "text/plain": [
       "{0: {'alcohol': {'mean': 13.744745762711865, 'std': 0.45819230635257235},\n",
       "  'malic_acid': {'mean': 2.010677966101695, 'std': 0.6826887630111},\n",
       "  'ash': {'mean': 2.4555932203389834, 'std': 0.22523261938580774},\n",
       "  'alcalinity_of_ash': {'mean': 17.037288135593222, 'std': 2.524651229820095},\n",
       "  'magnesium': {'mean': 106.33898305084746, 'std': 10.409594937480737},\n",
       "  'total_phenols': {'mean': 2.8401694915254234, 'std': 0.3360765223870026},\n",
       "  'flavanoids': {'mean': 2.982372881355932, 'std': 0.3941106227867916},\n",
       "  'nonflavanoid_phenols': {'mean': 0.29000000000000004,\n",
       "   'std': 0.06945306914427413},\n",
       "  'proanthocyanins': {'mean': 1.8993220338983048, 'std': 0.4086018509078915},\n",
       "  'color_intensity': {'mean': 5.528305084745763, 'std': 1.2280315688295402},\n",
       "  'hue': {'mean': 1.0620338983050848, 'std': 0.11549128165814294},\n",
       "  'od280/od315_of_diluted_wines': {'mean': 3.1577966101694916,\n",
       "   'std': 0.3540375724416456},\n",
       "  'proline': {'mean': 1115.7118644067796, 'std': 219.63544918159718}},\n",
       " 1: {'alcohol': {'mean': 12.278732394366195, 'std': 0.5341623153044869},\n",
       "  'malic_acid': {'mean': 1.932676056338028, 'std': 1.0083914924783712},\n",
       "  'ash': {'mean': 2.244788732394366, 'std': 0.3132377900453227},\n",
       "  'alcalinity_of_ash': {'mean': 20.238028169014086, 'std': 3.32609681992941},\n",
       "  'magnesium': {'mean': 94.54929577464789, 'std': 16.635096728484584},\n",
       "  'total_phenols': {'mean': 2.25887323943662, 'std': 0.5415068940707272},\n",
       "  'flavanoids': {'mean': 2.0808450704225354, 'std': 0.7007134120708557},\n",
       "  'nonflavanoid_phenols': {'mean': 0.3636619718309859,\n",
       "   'std': 0.12308521537536181},\n",
       "  'proanthocyanins': {'mean': 1.630281690140845, 'std': 0.5978128489258201},\n",
       "  'color_intensity': {'mean': 3.086619718309859, 'std': 0.9183925695060169},\n",
       "  'hue': {'mean': 1.0562816901408452, 'std': 0.20150260775571788},\n",
       "  'od280/od315_of_diluted_wines': {'mean': 2.785352112676056,\n",
       "   'std': 0.4930640931565847},\n",
       "  'proline': {'mean': 519.5070422535211, 'std': 156.10017307778267}},\n",
       " 2: {'alcohol': {'mean': 13.153750000000002, 'std': 0.5246888959183338},\n",
       "  'malic_acid': {'mean': 3.3337499999999998, 'std': 1.0765137114005252},\n",
       "  'ash': {'mean': 2.4370833333333333, 'std': 0.18275619384548614},\n",
       "  'alcalinity_of_ash': {'mean': 21.416666666666668, 'std': 2.2345146129653206},\n",
       "  'magnesium': {'mean': 99.3125, 'std': 10.776433102686003},\n",
       "  'total_phenols': {'mean': 1.6787500000000002, 'std': 0.3532328375165593},\n",
       "  'flavanoids': {'mean': 0.7814583333333333, 'std': 0.290430639907745},\n",
       "  'nonflavanoid_phenols': {'mean': 0.4475, 'std': 0.12283966514661838},\n",
       "  'proanthocyanins': {'mean': 1.1535416666666667, 'std': 0.404554742810606},\n",
       "  'color_intensity': {'mean': 7.396249979166666, 'std': 2.2867431352275744},\n",
       "  'hue': {'mean': 0.6827083333333333, 'std': 0.1132427257290973},\n",
       "  'od280/od315_of_diluted_wines': {'mean': 1.6835416666666667,\n",
       "   'std': 0.2692620283860232},\n",
       "  'proline': {'mean': 629.8958333333334, 'std': 113.89180530649351}}}"
      ]
     },
     "execution_count": 28,
     "metadata": {},
     "output_type": "execute_result"
    }
   ],
   "source": [
    "cond_probs"
   ]
  },
  {
   "cell_type": "code",
   "execution_count": 31,
   "metadata": {},
   "outputs": [
    {
     "data": {
      "text/plain": [
       "115.09704315911696"
      ]
     },
     "execution_count": 31,
     "metadata": {},
     "output_type": "execute_result"
    }
   ],
   "source": [
    "X.loc[y == 2, 'proline'].std()"
   ]
  },
  {
   "cell_type": "code",
   "execution_count": 35,
   "metadata": {},
   "outputs": [
    {
     "data": {
      "text/plain": [
       "0"
      ]
     },
     "execution_count": 35,
     "metadata": {},
     "output_type": "execute_result"
    }
   ],
   "source": [
    "a = int()\n",
    "a"
   ]
  },
  {
   "cell_type": "code",
   "execution_count": 39,
   "metadata": {},
   "outputs": [
    {
     "data": {
      "text/plain": [
       "1"
      ]
     },
     "execution_count": 39,
     "metadata": {},
     "output_type": "execute_result"
    }
   ],
   "source": [
    "one = lambda: 1\n",
    "one()"
   ]
  },
  {
   "cell_type": "code",
   "execution_count": 33,
   "metadata": {},
   "outputs": [
    {
     "name": "stdout",
     "output_type": "stream",
     "text": [
      "Help on class defaultdict in module collections:\n",
      "\n",
      "class defaultdict(builtins.dict)\n",
      " |  defaultdict(default_factory[, ...]) --> dict with default factory\n",
      " |  \n",
      " |  The default factory is called without arguments to produce\n",
      " |  a new value when a key is not present, in __getitem__ only.\n",
      " |  A defaultdict compares equal to a dict with the same items.\n",
      " |  All remaining arguments are treated the same as if they were\n",
      " |  passed to the dict constructor, including keyword arguments.\n",
      " |  \n",
      " |  Method resolution order:\n",
      " |      defaultdict\n",
      " |      builtins.dict\n",
      " |      builtins.object\n",
      " |  \n",
      " |  Methods defined here:\n",
      " |  \n",
      " |  __copy__(...)\n",
      " |      D.copy() -> a shallow copy of D.\n",
      " |  \n",
      " |  __getattribute__(self, name, /)\n",
      " |      Return getattr(self, name).\n",
      " |  \n",
      " |  __init__(self, /, *args, **kwargs)\n",
      " |      Initialize self.  See help(type(self)) for accurate signature.\n",
      " |  \n",
      " |  __missing__(...)\n",
      " |      __missing__(key) # Called by __getitem__ for missing key; pseudo-code:\n",
      " |      if self.default_factory is None: raise KeyError((key,))\n",
      " |      self[key] = value = self.default_factory()\n",
      " |      return value\n",
      " |  \n",
      " |  __reduce__(...)\n",
      " |      Return state information for pickling.\n",
      " |  \n",
      " |  __repr__(self, /)\n",
      " |      Return repr(self).\n",
      " |  \n",
      " |  copy(...)\n",
      " |      D.copy() -> a shallow copy of D.\n",
      " |  \n",
      " |  ----------------------------------------------------------------------\n",
      " |  Data descriptors defined here:\n",
      " |  \n",
      " |  default_factory\n",
      " |      Factory for default value called by __missing__().\n",
      " |  \n",
      " |  ----------------------------------------------------------------------\n",
      " |  Methods inherited from builtins.dict:\n",
      " |  \n",
      " |  __contains__(self, key, /)\n",
      " |      True if D has a key k, else False.\n",
      " |  \n",
      " |  __delitem__(self, key, /)\n",
      " |      Delete self[key].\n",
      " |  \n",
      " |  __eq__(self, value, /)\n",
      " |      Return self==value.\n",
      " |  \n",
      " |  __ge__(self, value, /)\n",
      " |      Return self>=value.\n",
      " |  \n",
      " |  __getitem__(...)\n",
      " |      x.__getitem__(y) <==> x[y]\n",
      " |  \n",
      " |  __gt__(self, value, /)\n",
      " |      Return self>value.\n",
      " |  \n",
      " |  __iter__(self, /)\n",
      " |      Implement iter(self).\n",
      " |  \n",
      " |  __le__(self, value, /)\n",
      " |      Return self<=value.\n",
      " |  \n",
      " |  __len__(self, /)\n",
      " |      Return len(self).\n",
      " |  \n",
      " |  __lt__(self, value, /)\n",
      " |      Return self<value.\n",
      " |  \n",
      " |  __ne__(self, value, /)\n",
      " |      Return self!=value.\n",
      " |  \n",
      " |  __new__(*args, **kwargs) from builtins.type\n",
      " |      Create and return a new object.  See help(type) for accurate signature.\n",
      " |  \n",
      " |  __setitem__(self, key, value, /)\n",
      " |      Set self[key] to value.\n",
      " |  \n",
      " |  __sizeof__(...)\n",
      " |      D.__sizeof__() -> size of D in memory, in bytes\n",
      " |  \n",
      " |  clear(...)\n",
      " |      D.clear() -> None.  Remove all items from D.\n",
      " |  \n",
      " |  fromkeys(iterable, value=None, /) from builtins.type\n",
      " |      Returns a new dict with keys from iterable and values equal to value.\n",
      " |  \n",
      " |  get(...)\n",
      " |      D.get(k[,d]) -> D[k] if k in D, else d.  d defaults to None.\n",
      " |  \n",
      " |  items(...)\n",
      " |      D.items() -> a set-like object providing a view on D's items\n",
      " |  \n",
      " |  keys(...)\n",
      " |      D.keys() -> a set-like object providing a view on D's keys\n",
      " |  \n",
      " |  pop(...)\n",
      " |      D.pop(k[,d]) -> v, remove specified key and return the corresponding value.\n",
      " |      If key is not found, d is returned if given, otherwise KeyError is raised\n",
      " |  \n",
      " |  popitem(...)\n",
      " |      D.popitem() -> (k, v), remove and return some (key, value) pair as a\n",
      " |      2-tuple; but raise KeyError if D is empty.\n",
      " |  \n",
      " |  setdefault(...)\n",
      " |      D.setdefault(k[,d]) -> D.get(k,d), also set D[k]=d if k not in D\n",
      " |  \n",
      " |  update(...)\n",
      " |      D.update([E, ]**F) -> None.  Update D from dict/iterable E and F.\n",
      " |      If E is present and has a .keys() method, then does:  for k in E: D[k] = E[k]\n",
      " |      If E is present and lacks a .keys() method, then does:  for k, v in E: D[k] = v\n",
      " |      In either case, this is followed by: for k in F:  D[k] = F[k]\n",
      " |  \n",
      " |  values(...)\n",
      " |      D.values() -> an object providing a view on D's values\n",
      " |  \n",
      " |  ----------------------------------------------------------------------\n",
      " |  Data and other attributes inherited from builtins.dict:\n",
      " |  \n",
      " |  __hash__ = None\n",
      "\n"
     ]
    }
   ],
   "source": [
    "help(defaultdict)"
   ]
  },
  {
   "cell_type": "code",
   "execution_count": 42,
   "metadata": {},
   "outputs": [
    {
     "data": {
      "text/plain": [
       "5"
      ]
     },
     "execution_count": 42,
     "metadata": {},
     "output_type": "execute_result"
    }
   ],
   "source": [
    "from collections import defaultdict\n",
    "\n",
    "t = defaultdict(lambda: 1)\n",
    "t[13] = 5\n",
    "\n",
    "t[13]"
   ]
  },
  {
   "cell_type": "code",
   "execution_count": 43,
   "metadata": {},
   "outputs": [
    {
     "data": {
      "text/plain": [
       "1"
      ]
     },
     "execution_count": 43,
     "metadata": {},
     "output_type": "execute_result"
    }
   ],
   "source": [
    "t[4]"
   ]
  },
  {
   "cell_type": "code",
   "execution_count": 44,
   "metadata": {},
   "outputs": [
    {
     "data": {
      "text/plain": [
       "defaultdict(<function __main__.<lambda>()>, {13: 5, 4: 1})"
      ]
     },
     "execution_count": 44,
     "metadata": {},
     "output_type": "execute_result"
    }
   ],
   "source": [
    "t"
   ]
  },
  {
   "cell_type": "code",
   "execution_count": 46,
   "metadata": {},
   "outputs": [
    {
     "name": "stderr",
     "output_type": "stream",
     "text": [
      "C:\\Users\\Stephen\\Anaconda\\envs\\py36\\lib\\site-packages\\ipykernel_launcher.py:1: RuntimeWarning: divide by zero encountered in log\n",
      "  \"\"\"Entry point for launching an IPython kernel.\n"
     ]
    },
    {
     "data": {
      "text/plain": [
       "-inf"
      ]
     },
     "execution_count": 46,
     "metadata": {},
     "output_type": "execute_result"
    }
   ],
   "source": [
    "np.log(0)"
   ]
  }
 ],
 "metadata": {
  "kernelspec": {
   "display_name": "py36",
   "language": "python",
   "name": "py36"
  },
  "language_info": {
   "codemirror_mode": {
    "name": "ipython",
    "version": 3
   },
   "file_extension": ".py",
   "mimetype": "text/x-python",
   "name": "python",
   "nbconvert_exporter": "python",
   "pygments_lexer": "ipython3",
   "version": "3.6.2"
  }
 },
 "nbformat": 4,
 "nbformat_minor": 4
}
